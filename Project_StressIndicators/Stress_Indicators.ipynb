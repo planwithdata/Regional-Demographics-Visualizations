{
 "cells": [
  {
   "cell_type": "code",
   "execution_count": 6,
   "id": "6bf41cd5",
   "metadata": {},
   "outputs": [
    {
     "data": {
      "text/plain": [
       "'C:\\\\Users\\\\rsingh\\\\OneDrive - PlanRVA\\\\Documents\\\\2_Projects\\\\Extras\\\\Regional-Demographic-Visualizations\\\\Regional-Demographics-Visualizations'"
      ]
     },
     "execution_count": 6,
     "metadata": {},
     "output_type": "execute_result"
    }
   ],
   "source": [
    "import os\n",
    "os.getcwd()"
   ]
  },
  {
   "cell_type": "code",
   "execution_count": 8,
   "id": "69de6c24",
   "metadata": {},
   "outputs": [
    {
     "name": "stdout",
     "output_type": "stream",
     "text": [
      "Folder 'Project_data' created successfully.\n"
     ]
    }
   ],
   "source": [
    "folder_name = 'Project_data'  # folder name\n",
    "path = os.path.join(os.getcwd(), folder_name)\n",
    "\n",
    "try:\n",
    "    os.makedirs(path, exist_ok=True)\n",
    "    print(f\"Folder '{folder_name}' created successfully.\")\n",
    "except Exception as e:\n",
    "    print(f\"Failed to create folder '{folder_name}'. Error: {e}\")\n"
   ]
  },
  {
   "cell_type": "code",
   "execution_count": 9,
   "id": "c2f4e75b",
   "metadata": {},
   "outputs": [
    {
     "name": "stdout",
     "output_type": "stream",
     "text": [
      "Folder 'Plots' created successfully.\n"
     ]
    }
   ],
   "source": [
    "folder_name = 'Plots'  # folder name\n",
    "path = os.path.join(os.getcwd(), folder_name)\n",
    "\n",
    "try:\n",
    "    os.makedirs(path, exist_ok=True)\n",
    "    print(f\"Folder '{folder_name}' created successfully.\")\n",
    "except Exception as e:\n",
    "    print(f\"Failed to create folder '{folder_name}'. Error: {e}\")\n"
   ]
  },
  {
   "cell_type": "code",
   "execution_count": null,
   "id": "49fa1664",
   "metadata": {},
   "outputs": [],
   "source": []
  },
  {
   "cell_type": "code",
   "execution_count": 1,
   "id": "5ae4b894",
   "metadata": {},
   "outputs": [
    {
     "name": "stdout",
     "output_type": "stream",
     "text": [
      "On branch Vis_1_Stress_Indicators\n",
      "Untracked files:\n",
      "  (use \"git add <file>...\" to include in what will be committed)\n",
      "\t.ipynb_checkpoints/\n",
      "\tStress_Indicators.ipynb\n",
      "\n",
      "nothing added to commit but untracked files present (use \"git add\" to track)\n"
     ]
    }
   ],
   "source": [
    "!git status"
   ]
  },
  {
   "cell_type": "code",
   "execution_count": 3,
   "id": "2994c66f",
   "metadata": {},
   "outputs": [
    {
     "name": "stderr",
     "output_type": "stream",
     "text": [
      "warning: in the working copy of '.ipynb_checkpoints/Stress_Indicators-checkpoint.ipynb', LF will be replaced by CRLF the next time Git touches it\n",
      "warning: in the working copy of 'Stress_Indicators.ipynb', LF will be replaced by CRLF the next time Git touches it\n"
     ]
    }
   ],
   "source": [
    "!git add ."
   ]
  },
  {
   "cell_type": "code",
   "execution_count": 5,
   "id": "1aeaa537",
   "metadata": {},
   "outputs": [
    {
     "name": "stdout",
     "output_type": "stream",
     "text": [
      "[Vis_1_Stress_Indicators 2080a24] Project Started\n",
      " 2 files changed, 136 insertions(+)\n",
      " create mode 100644 .ipynb_checkpoints/Stress_Indicators-checkpoint.ipynb\n",
      " create mode 100644 Stress_Indicators.ipynb\n"
     ]
    }
   ],
   "source": [
    "!git commit -m \"Project Started\""
   ]
  },
  {
   "cell_type": "code",
   "execution_count": null,
   "id": "82c60c71",
   "metadata": {},
   "outputs": [],
   "source": []
  },
  {
   "cell_type": "code",
   "execution_count": null,
   "id": "73e5ecb4",
   "metadata": {},
   "outputs": [],
   "source": []
  }
 ],
 "metadata": {
  "kernelspec": {
   "display_name": "Python 3 (ipykernel)",
   "language": "python",
   "name": "python3"
  },
  "language_info": {
   "codemirror_mode": {
    "name": "ipython",
    "version": 3
   },
   "file_extension": ".py",
   "mimetype": "text/x-python",
   "name": "python",
   "nbconvert_exporter": "python",
   "pygments_lexer": "ipython3",
   "version": "3.10.9"
  }
 },
 "nbformat": 4,
 "nbformat_minor": 5
}
